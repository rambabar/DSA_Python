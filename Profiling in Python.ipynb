{
 "cells": [
  {
   "cell_type": "markdown",
   "id": "c43882f0",
   "metadata": {},
   "source": [
    "## Profiling in Python\n",
    "Python provides many excellent modules to measure the statistics of a program. This makes us know where the program is spending too much time and what to do inorder to optimize it. It is better to optimize the code inorder to increase the efficiency of a program. So, perform some standard tests to ensure optimization and we can improve the program inorder to increase the efficiency.\n",
    "\n",
    "* Python includes a profiler called cProfile. It not only gives the total running time, but also times each function separately, and tells how many times each function was called, making it easy to determine where should make optimizations.\n"
   ]
  },
  {
   "cell_type": "code",
   "execution_count": 1,
   "id": "1008976b",
   "metadata": {},
   "outputs": [
    {
     "name": "stdout",
     "output_type": "stream",
     "text": [
      "Time Consumed: 0.02500152587890625 seconds\n"
     ]
    }
   ],
   "source": [
    "import time\n",
    "start = time.time()\n",
    "sq=[]\n",
    "for x in range(10000):\n",
    "    sq.append(x**2)\n",
    "print(\"Time Consumed: % s seconds\" % (time.time() - start))"
   ]
  },
  {
   "cell_type": "code",
   "execution_count": 2,
   "id": "a73d8a7c",
   "metadata": {},
   "outputs": [
    {
     "name": "stdout",
     "output_type": "stream",
     "text": [
      "Wall time: 18 ms\n"
     ]
    }
   ],
   "source": [
    "%%time\n",
    "sq=[]\n",
    "for x in range(10000):\n",
    "    sq.append(x**2)"
   ]
  },
  {
   "cell_type": "code",
   "execution_count": 3,
   "id": "5b4a8381",
   "metadata": {},
   "outputs": [
    {
     "name": "stdout",
     "output_type": "stream",
     "text": [
      "1.02 ms ± 92.8 µs per loop (mean ± std. dev. of 7 runs, 1000 loops each)\n"
     ]
    }
   ],
   "source": [
    "%%timeit -n 1000\n",
    "sq=[]\n",
    "for x in range(1000):\n",
    "    sq.append(x**2)"
   ]
  },
  {
   "cell_type": "code",
   "execution_count": 4,
   "id": "f8470752",
   "metadata": {},
   "outputs": [],
   "source": [
    "#!pip install line_profiler"
   ]
  },
  {
   "cell_type": "code",
   "execution_count": 5,
   "id": "9c90ad6e",
   "metadata": {
    "scrolled": true
   },
   "outputs": [
    {
     "name": "stdout",
     "output_type": "stream",
     "text": [
      "Timer unit: 6.03742e-07 s\n",
      "\n"
     ]
    },
    {
     "name": "stderr",
     "output_type": "stream",
     "text": [
      "<ipython-input-5-754360c61a7a>:7: UserWarning: Could not extract a code object for the object None\n",
      "  profile = LineProfiler(fun1(10000))\n"
     ]
    }
   ],
   "source": [
    "from line_profiler import LineProfiler\n",
    "sq=[]\n",
    "def fun1(n):\n",
    "    for x in range(n):\n",
    "        sq.append(x**2)\n",
    "        \n",
    "profile = LineProfiler(fun1(10000))\n",
    "profile.print_stats()"
   ]
  },
  {
   "cell_type": "code",
   "execution_count": 6,
   "id": "606a5a84",
   "metadata": {},
   "outputs": [
    {
     "name": "stdout",
     "output_type": "stream",
     "text": [
      "         10004 function calls in 0.019 seconds\n",
      "\n",
      "   Ordered by: standard name\n",
      "\n",
      "   ncalls  tottime  percall  cumtime  percall filename:lineno(function)\n",
      "        1    0.015    0.015    0.019    0.019 <ipython-input-6-57f7059af460>:3(fun1)\n",
      "        1    0.000    0.000    0.019    0.019 <string>:1(<module>)\n",
      "        1    0.000    0.000    0.019    0.019 {built-in method builtins.exec}\n",
      "    10000    0.003    0.000    0.003    0.000 {method 'append' of 'list' objects}\n",
      "        1    0.000    0.000    0.000    0.000 {method 'disable' of '_lsprof.Profiler' objects}\n",
      "\n",
      "\n"
     ]
    }
   ],
   "source": [
    "import cProfile\n",
    "\n",
    "def fun1(n):\n",
    "    for x in range(n):\n",
    "        sq.append(x**2)\n",
    "\n",
    "num=10000\n",
    "cProfile.run('fun1(num)')"
   ]
  },
  {
   "cell_type": "code",
   "execution_count": 7,
   "id": "150a0913",
   "metadata": {},
   "outputs": [],
   "source": [
    "def msort(x):\n",
    "    result = []\n",
    "    if len(x) < 2:\n",
    "        return x\n",
    "    mid = int(len(x)/2)\n",
    "    y = msort(x[:mid])\n",
    "    z = msort(x[mid:])\n",
    "    while (len(y) > 0) or (len(z) > 0):\n",
    "        if len(y) > 0 and len(z) > 0:\n",
    "            if y[0] > z[0]:\n",
    "                result.append(z[0])\n",
    "                z.pop(0)\n",
    "            else:\n",
    "                result.append(y[0])\n",
    "                y.pop(0)\n",
    "        elif len(z) > 0:\n",
    "            for i in z:\n",
    "                result.append(i)\n",
    "                z.pop(0)\n",
    "        else:\n",
    "            for i in y:\n",
    "                result.append(i)\n",
    "                y.pop(0)\n",
    "    return result"
   ]
  },
  {
   "cell_type": "code",
   "execution_count": 8,
   "id": "2147d5ec",
   "metadata": {},
   "outputs": [
    {
     "data": {
      "text/plain": [
       "0.3023647959999991"
      ]
     },
     "execution_count": 8,
     "metadata": {},
     "output_type": "execute_result"
    }
   ],
   "source": [
    "import random\n",
    "import timeit\n",
    "start_time = timeit.default_timer()\n",
    "random.seed(1)\n",
    "list=random.sample(range(1, 10001), 10000)\n",
    "msort(list)\n",
    "elapsed = timeit.default_timer() - start_time\n",
    "elapsed"
   ]
  },
  {
   "cell_type": "code",
   "execution_count": 9,
   "id": "2b873b22",
   "metadata": {},
   "outputs": [
    {
     "name": "stdout",
     "output_type": "stream",
     "text": [
      "Time for sorting is:\n",
      "Wall time: 290 ms\n"
     ]
    }
   ],
   "source": [
    "%%time\n",
    "import random\n",
    "random.seed(1)\n",
    "list=random.sample(range(1, 10001), 10000)\n",
    "msort(list)\n",
    "print('Time for sorting is:')"
   ]
  },
  {
   "cell_type": "code",
   "execution_count": 10,
   "id": "563084bb",
   "metadata": {},
   "outputs": [
    {
     "name": "stdout",
     "output_type": "stream",
     "text": [
      "         748061 function calls (728063 primitive calls) in 0.940 seconds\n",
      "\n",
      "   Ordered by: standard name\n",
      "\n",
      "   ncalls  tottime  percall  cumtime  percall filename:lineno(function)\n",
      "  19999/1    0.604    0.000    0.940    0.940 <ipython-input-7-f241ac15eadc>:1(msort)\n",
      "        1    0.000    0.000    0.940    0.940 <string>:1(<module>)\n",
      "        1    0.000    0.000    0.940    0.940 {built-in method builtins.exec}\n",
      "   460827    0.152    0.000    0.152    0.000 {built-in method builtins.len}\n",
      "   133616    0.058    0.000    0.058    0.000 {method 'append' of 'list' objects}\n",
      "        1    0.000    0.000    0.000    0.000 {method 'disable' of '_lsprof.Profiler' objects}\n",
      "   133616    0.126    0.000    0.126    0.000 {method 'pop' of 'list' objects}\n",
      "\n",
      "\n"
     ]
    }
   ],
   "source": [
    "import cProfile\n",
    "\n",
    "random.seed(1)\n",
    "list=random.sample(range(1, 10001), 10000)\n",
    "\n",
    "cProfile.run('msort(list)')"
   ]
  },
  {
   "cell_type": "code",
   "execution_count": 11,
   "id": "c506f32a",
   "metadata": {},
   "outputs": [
    {
     "name": "stdout",
     "output_type": "stream",
     "text": [
      "264 ms ± 24.4 ms per loop (mean ± std. dev. of 7 runs, 10 loops each)\n"
     ]
    }
   ],
   "source": [
    "%%timeit -n 10\n",
    "random.seed(1)\n",
    "list=random.sample(range(1, 10001), 10000)\n",
    "msort(list)"
   ]
  },
  {
   "cell_type": "code",
   "execution_count": 12,
   "id": "6f3941b1",
   "metadata": {},
   "outputs": [
    {
     "name": "stdout",
     "output_type": "stream",
     "text": [
      "Linear search time: 5.183058761000005\n",
      "Binary search time: 4.216621375999992\n"
     ]
    }
   ],
   "source": [
    "# importing the required modules\n",
    "import timeit\n",
    "\n",
    "# binary search function\n",
    "def binary_search(mylist, find):\n",
    "\twhile len(mylist) > 0:\n",
    "\t\tmid = (len(mylist))//2\n",
    "\t\tif mylist[mid] == find:\n",
    "\t\t\treturn True\n",
    "\t\telif mylist[mid] < find:\n",
    "\t\t\tmylist = mylist[:mid]\n",
    "\t\telse:\n",
    "\t\t\tmylist = mylist[mid + 1:]\n",
    "\treturn False\n",
    "\n",
    "\n",
    "# linear search function\n",
    "def linear_search(mylist, find):\n",
    "\tfor x in mylist:\n",
    "\t\tif x == find:\n",
    "\t\t\treturn True\n",
    "\treturn False\n",
    "\n",
    "\n",
    "# compute binary search time\n",
    "def binary_time():\n",
    "\tSETUP_CODE = '''\n",
    "from __main__ import binary_search\n",
    "from random import randint'''\n",
    "\n",
    "\tTEST_CODE = '''\n",
    "mylist = [x for x in range(10000)]\n",
    "find = randint(0, len(mylist))\n",
    "binary_search(mylist, find)'''\n",
    "\t\n",
    "\t# timeit.repeat statement\n",
    "\ttimes = timeit.repeat(setup = SETUP_CODE,\n",
    "\t\t\t\t\t\tstmt = TEST_CODE,\n",
    "\t\t\t\t\t\trepeat = 3,\n",
    "\t\t\t\t\t\tnumber = 10000)\n",
    "\n",
    "\t# printing minimum exec. time\n",
    "\tprint('Binary search time: {}'.format(min(times)))\t\n",
    "\n",
    "\n",
    "# compute linear search time\n",
    "def linear_time():\n",
    "\tSETUP_CODE = '''\n",
    "from __main__ import linear_search\n",
    "from random import randint'''\n",
    "\t\n",
    "\tTEST_CODE = '''\n",
    "mylist = [x for x in range(10000)]\n",
    "find = randint(0, len(mylist))\n",
    "linear_search(mylist, find)\n",
    "\t'''\n",
    "\t# timeit.repeat statement\n",
    "\ttimes = timeit.repeat(setup = SETUP_CODE,\n",
    "\t\t\t\t\t\tstmt = TEST_CODE,\n",
    "\t\t\t\t\t\trepeat = 3,\n",
    "\t\t\t\t\t\tnumber = 10000)\n",
    "\n",
    "\t# printing minimum exec. time\n",
    "\tprint('Linear search time: {}'.format(min(times)))\n",
    "\n",
    "if __name__ == \"__main__\":\n",
    "\tlinear_time()\n",
    "\tbinary_time()\n"
   ]
  },
  {
   "cell_type": "markdown",
   "id": "08b01be7",
   "metadata": {},
   "source": [
    "---"
   ]
  },
  {
   "cell_type": "markdown",
   "id": "19745565",
   "metadata": {},
   "source": [
    "***For Python file with Extension .py : ***\n",
    "\n",
    "* calling from interpreter or cmd: <br>\n",
    "import cProfile <br>\n",
    "cProfile.run('func()')\n",
    "\n",
    "* calling cProfile when running a script:<br>\n",
    "python -m cProfile myscript.py\n",
    "\n",
    "* can made a little batch file called 'profile.bat':<br>\n",
    "python -m cProfile %1\n",
    "\n",
    "* then run only: <br>\n",
    "profile euler048.py"
   ]
  },
  {
   "cell_type": "markdown",
   "id": "38cf8d1a",
   "metadata": {},
   "source": [
    "---"
   ]
  },
  {
   "cell_type": "markdown",
   "id": "61bb29fe",
   "metadata": {},
   "source": [
    "### Visualize Profiling Results\n",
    "The profiling is an important form of analysis which can be used to analyze time or space complexity of code. The Python has many profiling libraries like `cProfile`, `profile`, `line_profiler`, etc to analyze time complexity and `memory_profiler`, `memprof`, `guppy/hpy`, etc to analyze space complexity. The results generated by profiling libraries like `cProfile` generally log files with many lines each explaining the usage time of various function calls. If the function is very deep and has many lines of code than analyzing such log files can be a very tedious task.\n",
    "\n",
    "Data visualization is a process where we can represent a lot of data and the human eye can easily catch patterns as well as understand data better. The Python has a library called **`snakeviz`** which can take profiling files generated by `cProfile` and generate visualization out of it."
   ]
  },
  {
   "cell_type": "code",
   "execution_count": 13,
   "id": "9ba30ac7",
   "metadata": {},
   "outputs": [],
   "source": [
    "#!pip install snakeviz"
   ]
  },
  {
   "cell_type": "code",
   "execution_count": 14,
   "id": "9574b784",
   "metadata": {},
   "outputs": [],
   "source": [
    "%load_ext snakeviz"
   ]
  },
  {
   "cell_type": "code",
   "execution_count": 15,
   "id": "6dfc5b05",
   "metadata": {},
   "outputs": [
    {
     "name": "stdout",
     "output_type": "stream",
     "text": [
      "50.4319\n",
      "50.52205\n",
      "50.42586\n",
      " \n",
      "*** Profile stats marshalled to file 'C:\\\\Users\\\\Ram\\\\AppData\\\\Local\\\\Temp\\\\tmp_138grn_'. \n",
      "Embedding SnakeViz in this document...\n"
     ]
    },
    {
     "data": {
      "text/html": [
       "\n",
       "<iframe id='snakeviz-728df169-fa96-11eb-8527-645a0476c305' frameborder=0 seamless width='100%' height='1000'></iframe>\n",
       "<script>document.getElementById(\"snakeviz-728df169-fa96-11eb-8527-645a0476c305\").setAttribute(\"src\", \"http://\" + document.location.hostname + \":8080/snakeviz/C%3A%5CUsers%5CRam%5CAppData%5CLocal%5CTemp%5Ctmp_138grn_\")</script>\n"
      ],
      "text/plain": [
       "<IPython.core.display.HTML object>"
      ]
     },
     "metadata": {},
     "output_type": "display_data"
    }
   ],
   "source": [
    "import time\n",
    "import random\n",
    "\n",
    "def very_slow_random_generator():\n",
    "    time.sleep(5)\n",
    "    arr = [random.randint(1,100) for i in range(100000)]\n",
    "    return sum(arr) / len(arr)\n",
    "\n",
    "def slow_random_generator():\n",
    "    time.sleep(2)\n",
    "    arr = [random.randint(1,100) for i in range(100000)]\n",
    "    return sum(arr) / len(arr)\n",
    "\n",
    "def fast_random_generator():\n",
    "    time.sleep(1)\n",
    "    arr = [random.randint(1,100) for i in range(100000)]\n",
    "    return sum(arr) / len(arr)\n",
    "\n",
    "\n",
    "def main_func():\n",
    "    result = fast_random_generator()\n",
    "    print(result)\n",
    "\n",
    "    result = slow_random_generator()\n",
    "    print(result)\n",
    "\n",
    "    result = very_slow_random_generator()\n",
    "    print(result)\n",
    "\n",
    "%snakeviz main_func()"
   ]
  },
  {
   "cell_type": "code",
   "execution_count": 16,
   "id": "c0266e94",
   "metadata": {},
   "outputs": [
    {
     "name": "stdout",
     "output_type": "stream",
     "text": [
      "50.55572\n",
      "50.60366\n",
      "50.67423\n",
      " \n",
      "*** Profile stats marshalled to file 'C:\\\\Users\\\\Ram\\\\AppData\\\\Local\\\\Temp\\\\tmpo6e4gobs'. \n",
      "Embedding SnakeViz in this document...\n"
     ]
    },
    {
     "data": {
      "text/html": [
       "\n",
       "<iframe id='snakeviz-7b69604c-fa96-11eb-84f2-645a0476c305' frameborder=0 seamless width='100%' height='1000'></iframe>\n",
       "<script>document.getElementById(\"snakeviz-7b69604c-fa96-11eb-84f2-645a0476c305\").setAttribute(\"src\", \"http://\" + document.location.hostname + \":8080/snakeviz/C%3A%5CUsers%5CRam%5CAppData%5CLocal%5CTemp%5Ctmpo6e4gobs\")</script>\n"
      ],
      "text/plain": [
       "<IPython.core.display.HTML object>"
      ]
     },
     "metadata": {},
     "output_type": "display_data"
    }
   ],
   "source": [
    "%%snakeviz\n",
    "\n",
    "import time\n",
    "import random\n",
    "\n",
    "def very_slow_random_generator():\n",
    "    time.sleep(5)\n",
    "    arr = [random.randint(1,100) for i in range(100000)]\n",
    "    return sum(arr) / len(arr)\n",
    "\n",
    "def slow_random_generator():\n",
    "    time.sleep(2)\n",
    "    arr = [random.randint(1,100) for i in range(100000)]\n",
    "    return sum(arr) / len(arr)\n",
    "\n",
    "def fast_random_generator():\n",
    "    time.sleep(1)\n",
    "    arr = [random.randint(1,100) for i in range(100000)]\n",
    "    return sum(arr) / len(arr)\n",
    "\n",
    "\n",
    "def main_func():\n",
    "    result = fast_random_generator()\n",
    "    print(result)\n",
    "\n",
    "    result = slow_random_generator()\n",
    "    print(result)\n",
    "\n",
    "    result = very_slow_random_generator()\n",
    "    print(result)\n",
    "\n",
    "main_func()"
   ]
  },
  {
   "cell_type": "markdown",
   "id": "fbcda703",
   "metadata": {},
   "source": [
    "---"
   ]
  }
 ],
 "metadata": {
  "kernelspec": {
   "display_name": "Python 3",
   "language": "python",
   "name": "python3"
  },
  "language_info": {
   "codemirror_mode": {
    "name": "ipython",
    "version": 3
   },
   "file_extension": ".py",
   "mimetype": "text/x-python",
   "name": "python",
   "nbconvert_exporter": "python",
   "pygments_lexer": "ipython3",
   "version": "3.8.8"
  }
 },
 "nbformat": 4,
 "nbformat_minor": 5
}
