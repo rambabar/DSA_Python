{
 "cells": [
  {
   "cell_type": "markdown",
   "id": "cbadf614",
   "metadata": {},
   "source": []
  },
  {
   "cell_type": "markdown",
   "id": "08217eed",
   "metadata": {},
   "source": [
    "# Data Structure in Python <br>\n",
    "This notebook is code implementation of Data Structure in Python Notes."
   ]
  },
  {
   "cell_type": "markdown",
   "id": "61168351",
   "metadata": {},
   "source": [
    "# Stack Data Structure"
   ]
  },
  {
   "cell_type": "code",
   "execution_count": 1,
   "id": "2cdebfc2",
   "metadata": {},
   "outputs": [
    {
     "data": {
      "text/plain": [
       "[1, 2, 3]"
      ]
     },
     "execution_count": 1,
     "metadata": {},
     "output_type": "execute_result"
    }
   ],
   "source": [
    "s= []\n",
    "s.append(1)\n",
    "s.append(2)\n",
    "s.append(3)\n",
    "s # [1,2,3]"
   ]
  },
  {
   "cell_type": "code",
   "execution_count": 2,
   "id": "e26f8bfd",
   "metadata": {},
   "outputs": [
    {
     "data": {
      "text/plain": [
       "3"
      ]
     },
     "execution_count": 2,
     "metadata": {},
     "output_type": "execute_result"
    }
   ],
   "source": [
    "s.pop() # 3"
   ]
  },
  {
   "cell_type": "code",
   "execution_count": 3,
   "id": "6dfcc925",
   "metadata": {},
   "outputs": [
    {
     "data": {
      "text/plain": [
       "2"
      ]
     },
     "execution_count": 3,
     "metadata": {},
     "output_type": "execute_result"
    }
   ],
   "source": [
    "s.pop() # 2"
   ]
  },
  {
   "cell_type": "code",
   "execution_count": 4,
   "id": "39468af2",
   "metadata": {},
   "outputs": [
    {
     "data": {
      "text/plain": [
       "1"
      ]
     },
     "execution_count": 4,
     "metadata": {},
     "output_type": "execute_result"
    }
   ],
   "source": [
    "s.pop() # 1"
   ]
  },
  {
   "cell_type": "code",
   "execution_count": 5,
   "id": "42eaa6e1",
   "metadata": {},
   "outputs": [],
   "source": [
    "#s.pop() # error"
   ]
  },
  {
   "cell_type": "code",
   "execution_count": 6,
   "id": "12e8bcf5",
   "metadata": {},
   "outputs": [
    {
     "name": "stdout",
     "output_type": "stream",
     "text": [
      "limit of stack:2\n",
      "select operation 1.push 2.pop 3.quit!\n",
      "1\n",
      "Enter the element:10\n",
      "['10']\n",
      "select operation 1.push 2.pop 3.quit!\n",
      "1\n",
      "Enter the element:20\n",
      "['10', '20']\n",
      "select operation 1.push 2.pop 3.quit!\n",
      "2\n",
      "removed element: 20\n",
      "['10']\n",
      "select operation 1.push 2.pop 3.quit!\n",
      "3\n"
     ]
    }
   ],
   "source": [
    "# Adding & Deleting element\n",
    "stack = []\n",
    "def push():\n",
    "    if len(stack) == n:\n",
    "        print('list is full!')\n",
    "    else:\n",
    "        element = input('Enter the element:')\n",
    "        stack.append(element)\n",
    "        print(stack)\n",
    "\n",
    "def pop_element():\n",
    "    if not stack:\n",
    "        print(\"stack is empty!\")\n",
    "    else:\n",
    "        e = stack.pop()\n",
    "        print('removed element:', e)\n",
    "        print(stack)\n",
    "\n",
    "n = int(input ( \"limit of stack:\" ))\n",
    "while True:\n",
    "    print('select operation 1.push 2.pop 3.quit!')\n",
    "    choice = int(input())\n",
    "    if choice == 1:\n",
    "        push()\n",
    "    elif choice == 2:\n",
    "        pop_element()\n",
    "    elif choice == 3:\n",
    "        break\n",
    "    else:\n",
    "        print(\"Enter the correct operation !\")\n"
   ]
  },
  {
   "cell_type": "code",
   "execution_count": 7,
   "id": "7d07ac0b",
   "metadata": {},
   "outputs": [
    {
     "data": {
      "text/plain": [
       "deque([10, 20])"
      ]
     },
     "execution_count": 7,
     "metadata": {},
     "output_type": "execute_result"
    }
   ],
   "source": [
    "import collections\n",
    "stack = collections.deque()\n",
    "stack.append (10)\n",
    "stack.append (20)\n",
    "stack #deque ([10,20])"
   ]
  },
  {
   "cell_type": "code",
   "execution_count": 8,
   "id": "4ec6a165",
   "metadata": {},
   "outputs": [
    {
     "data": {
      "text/plain": [
       "20"
      ]
     },
     "execution_count": 8,
     "metadata": {},
     "output_type": "execute_result"
    }
   ],
   "source": [
    "stack.pop() # 20"
   ]
  },
  {
   "cell_type": "code",
   "execution_count": 9,
   "id": "a651018b",
   "metadata": {},
   "outputs": [
    {
     "data": {
      "text/plain": [
       "10"
      ]
     },
     "execution_count": 9,
     "metadata": {},
     "output_type": "execute_result"
    }
   ],
   "source": [
    "stack.pop() # 10"
   ]
  },
  {
   "cell_type": "code",
   "execution_count": 10,
   "id": "c21f5855",
   "metadata": {},
   "outputs": [],
   "source": [
    "#stack.pop() # error"
   ]
  },
  {
   "cell_type": "code",
   "execution_count": 11,
   "id": "098f91bb",
   "metadata": {},
   "outputs": [],
   "source": [
    "import queue\n",
    "stack = queue.LifoQueue(2)\n",
    "stack.put(10)\n",
    "stack.put(20)"
   ]
  },
  {
   "cell_type": "code",
   "execution_count": 12,
   "id": "9941f98a",
   "metadata": {},
   "outputs": [
    {
     "ename": "Full",
     "evalue": "",
     "output_type": "error",
     "traceback": [
      "\u001b[1;31m---------------------------------------------------------------------------\u001b[0m",
      "\u001b[1;31mFull\u001b[0m                                      Traceback (most recent call last)",
      "\u001b[1;32m<ipython-input-12-27a1eb7c9311>\u001b[0m in \u001b[0;36m<module>\u001b[1;34m\u001b[0m\n\u001b[1;32m----> 1\u001b[1;33m \u001b[0mstack\u001b[0m\u001b[1;33m.\u001b[0m\u001b[0mput\u001b[0m\u001b[1;33m(\u001b[0m\u001b[1;36m30\u001b[0m\u001b[1;33m,\u001b[0m \u001b[0mtimeout\u001b[0m\u001b[1;33m=\u001b[0m\u001b[1;36m1\u001b[0m\u001b[1;33m)\u001b[0m \u001b[1;31m# queue.Full\u001b[0m\u001b[1;33m\u001b[0m\u001b[1;33m\u001b[0m\u001b[0m\n\u001b[0m",
      "\u001b[1;32mc:\\users\\ram\\appdata\\local\\programs\\python\\python38\\lib\\queue.py\u001b[0m in \u001b[0;36mput\u001b[1;34m(self, item, block, timeout)\u001b[0m\n\u001b[0;32m    145\u001b[0m                         \u001b[0mremaining\u001b[0m \u001b[1;33m=\u001b[0m \u001b[0mendtime\u001b[0m \u001b[1;33m-\u001b[0m \u001b[0mtime\u001b[0m\u001b[1;33m(\u001b[0m\u001b[1;33m)\u001b[0m\u001b[1;33m\u001b[0m\u001b[1;33m\u001b[0m\u001b[0m\n\u001b[0;32m    146\u001b[0m                         \u001b[1;32mif\u001b[0m \u001b[0mremaining\u001b[0m \u001b[1;33m<=\u001b[0m \u001b[1;36m0.0\u001b[0m\u001b[1;33m:\u001b[0m\u001b[1;33m\u001b[0m\u001b[1;33m\u001b[0m\u001b[0m\n\u001b[1;32m--> 147\u001b[1;33m                             \u001b[1;32mraise\u001b[0m \u001b[0mFull\u001b[0m\u001b[1;33m\u001b[0m\u001b[1;33m\u001b[0m\u001b[0m\n\u001b[0m\u001b[0;32m    148\u001b[0m                         \u001b[0mself\u001b[0m\u001b[1;33m.\u001b[0m\u001b[0mnot_full\u001b[0m\u001b[1;33m.\u001b[0m\u001b[0mwait\u001b[0m\u001b[1;33m(\u001b[0m\u001b[0mremaining\u001b[0m\u001b[1;33m)\u001b[0m\u001b[1;33m\u001b[0m\u001b[1;33m\u001b[0m\u001b[0m\n\u001b[0;32m    149\u001b[0m             \u001b[0mself\u001b[0m\u001b[1;33m.\u001b[0m\u001b[0m_put\u001b[0m\u001b[1;33m(\u001b[0m\u001b[0mitem\u001b[0m\u001b[1;33m)\u001b[0m\u001b[1;33m\u001b[0m\u001b[1;33m\u001b[0m\u001b[0m\n",
      "\u001b[1;31mFull\u001b[0m: "
     ]
    }
   ],
   "source": [
    "stack.put(30, timeout=1) # queue.Full"
   ]
  },
  {
   "cell_type": "code",
   "execution_count": 13,
   "id": "0f71a893",
   "metadata": {},
   "outputs": [
    {
     "data": {
      "text/plain": [
       "20"
      ]
     },
     "execution_count": 13,
     "metadata": {},
     "output_type": "execute_result"
    }
   ],
   "source": [
    "stack.get() # 20"
   ]
  },
  {
   "cell_type": "code",
   "execution_count": 14,
   "id": "5368529b",
   "metadata": {},
   "outputs": [
    {
     "data": {
      "text/plain": [
       "10"
      ]
     },
     "execution_count": 14,
     "metadata": {},
     "output_type": "execute_result"
    }
   ],
   "source": [
    "stack.get() # 10"
   ]
  },
  {
   "cell_type": "code",
   "execution_count": 15,
   "id": "73d98ecb",
   "metadata": {},
   "outputs": [],
   "source": [
    "#stack.get(timeout=1) # _queue.Empty"
   ]
  },
  {
   "cell_type": "markdown",
   "id": "20c6d079",
   "metadata": {},
   "source": [
    "# Queue Data Structure"
   ]
  },
  {
   "cell_type": "code",
   "execution_count": 16,
   "id": "d64af16e",
   "metadata": {},
   "outputs": [
    {
     "data": {
      "text/plain": [
       "[1, 2, 3]"
      ]
     },
     "execution_count": 16,
     "metadata": {},
     "output_type": "execute_result"
    }
   ],
   "source": [
    "# Queue\n",
    "# Adding Element\n",
    "queue = []\n",
    "queue.append(1)\n",
    "queue.append(2)\n",
    "queue.append(3)\n",
    "queue # [1, 2, 3]"
   ]
  },
  {
   "cell_type": "code",
   "execution_count": 17,
   "id": "b2c2cdf4",
   "metadata": {},
   "outputs": [
    {
     "data": {
      "text/plain": [
       "3"
      ]
     },
     "execution_count": 17,
     "metadata": {},
     "output_type": "execute_result"
    }
   ],
   "source": [
    "# Deleting element\n",
    "queue.pop(0) # 10\n",
    "queue.pop(0) # 20\n",
    "queue.pop(0) # 30\n",
    "#queue.pop(0) # error"
   ]
  },
  {
   "cell_type": "code",
   "execution_count": 18,
   "id": "fbbd7793",
   "metadata": {},
   "outputs": [
    {
     "data": {
      "text/plain": [
       "[20, 10]"
      ]
     },
     "execution_count": 18,
     "metadata": {},
     "output_type": "execute_result"
    }
   ],
   "source": [
    "#Reverse dir :\n",
    "q = []\n",
    "q.insert(0,10)\n",
    "q.insert(0,20)\n",
    "q # [20, 10]"
   ]
  },
  {
   "cell_type": "code",
   "execution_count": 19,
   "id": "517a26f9",
   "metadata": {},
   "outputs": [
    {
     "data": {
      "text/plain": [
       "20"
      ]
     },
     "execution_count": 19,
     "metadata": {},
     "output_type": "execute_result"
    }
   ],
   "source": [
    "q.pop() # 10\n",
    "q.pop() # 20"
   ]
  },
  {
   "cell_type": "code",
   "execution_count": 20,
   "id": "b3c0d33c",
   "metadata": {},
   "outputs": [
    {
     "data": {
      "text/plain": [
       "deque([20, 10])"
      ]
     },
     "execution_count": 20,
     "metadata": {},
     "output_type": "execute_result"
    }
   ],
   "source": [
    "import collections\n",
    "q1 = collections.deque()\n",
    "q1.appendleft(10)\n",
    "q1.appendleft(20) \n",
    "q1 # deque([20,10])"
   ]
  },
  {
   "cell_type": "code",
   "execution_count": 21,
   "id": "859cb2f9",
   "metadata": {},
   "outputs": [
    {
     "data": {
      "text/plain": [
       "20"
      ]
     },
     "execution_count": 21,
     "metadata": {},
     "output_type": "execute_result"
    }
   ],
   "source": [
    "q1.pop() # 10\n",
    "q1.pop() # 20\n",
    "#q1.pop() # error"
   ]
  },
  {
   "cell_type": "code",
   "execution_count": 22,
   "id": "f762d3fd",
   "metadata": {},
   "outputs": [
    {
     "data": {
      "text/plain": [
       "deque([30, 40])"
      ]
     },
     "execution_count": 22,
     "metadata": {},
     "output_type": "execute_result"
    }
   ],
   "source": [
    "import collections\n",
    "q2=collections.deque()\n",
    "q2.append(30)\n",
    "q2.append(40)\n",
    "q2 # deque ([30,40])"
   ]
  },
  {
   "cell_type": "code",
   "execution_count": 23,
   "id": "678d42e9",
   "metadata": {},
   "outputs": [
    {
     "data": {
      "text/plain": [
       "40"
      ]
     },
     "execution_count": 23,
     "metadata": {},
     "output_type": "execute_result"
    }
   ],
   "source": [
    "q2.popleft() # 30\n",
    "q2.popleft() # 40\n",
    "#q2.popleft() # error"
   ]
  },
  {
   "cell_type": "markdown",
   "id": "dae7cb41",
   "metadata": {},
   "source": [
    "# Linked List Data Structure"
   ]
  },
  {
   "cell_type": "code",
   "execution_count": 24,
   "id": "e718fbb3",
   "metadata": {},
   "outputs": [
    {
     "name": "stdout",
     "output_type": "stream",
     "text": [
      "10 ---> 30 ---> 5 ---> 35 ---> 15 ---> "
     ]
    }
   ],
   "source": [
    "#Singly Linked list \n",
    "# Create new node\n",
    "class Node:\n",
    "    def __init__(self, data):\n",
    "        self.data=data\n",
    "        self.ref= None\n",
    "# Create connections between nodes\n",
    "class LinkedList:\n",
    "    def __init__(self):\n",
    "        self.head = None\n",
    "# traversal of linked list\n",
    "    def print_LL(self):\n",
    "        if self. head is None:\n",
    "            print(\"Linked list is empty!\")\n",
    "        else:\n",
    "            n = self.head\n",
    "            while n is not None:\n",
    "                print (n.data,\"--->\",end=\" \")\n",
    "                n = n.ref\n",
    "\n",
    "#1.Insertion/Adding Elements \n",
    "    def add_begin(self,data):\n",
    "        new_node = Node(data) # create node object from node class with data passed \n",
    "        new_node.ref = self.head\n",
    "        self.head = new_node\n",
    "\n",
    "    def add_end(self,data):\n",
    "        new_node = Node(data)\n",
    "        if self.head is None:\n",
    "            self.head = new_node\n",
    "        else:\n",
    "            n = self.head\n",
    "            while n.ref is not None:\n",
    "                n = n.ref\n",
    "            n.ref = new_node\n",
    "\n",
    "    def add_after(self,data,x):\n",
    "        n = self.head\n",
    "        while n is not None:\n",
    "            if x==n.data:\n",
    "                break\n",
    "            n = n.ref\n",
    "        if n is None:\n",
    "            print(\"node is not presesnt in LL\")\n",
    "        else:\n",
    "            new_node = Node(data)\n",
    "            new_node.ref = n.ref\n",
    "            n.ref = new_node\n",
    "\n",
    "    def add_before(self,data,x):\n",
    "        if self.head is None:\n",
    "            print(\"Linked List is empty!\")\n",
    "            return\n",
    "        if self.head.data==x:\n",
    "            new_node = Node(data)\n",
    "            new_node.ref = self.head\n",
    "            self.head = new_node\n",
    "            return\n",
    "        n = self.head\n",
    "        while n.ref is not None:\n",
    "            if n.ref.data==x:\n",
    "                break\n",
    "            n = n.ref        \n",
    "        if n.ref is None:\n",
    "            print(\"Node is not found!\")\n",
    "        else:\n",
    "            new_node = Node(data)\n",
    "            new_node.ref = n.ref\n",
    "            n.ref = new_node\n",
    "\n",
    "    def insert_empty(self,data):\n",
    "        if self.head is None:\n",
    "            new_node = Node(data)\n",
    "            self.head = new_node\n",
    "        else:\n",
    "            print(\"Linked List is not empty!\")\n",
    "\n",
    "#2) Deletion / Removing an Element\n",
    "    def delete_begin(self):\n",
    "        if self.head is None:\n",
    "            print(\"Linked List is empty can't delete!\")\n",
    "        else:\n",
    "            self.head=self.head.ref\n",
    "\n",
    "    def delete_end(self):\n",
    "        if self.head is None:\n",
    "            print(\"Linked List is empty can't delete!\")\n",
    "        else:\n",
    "            n=self.head\n",
    "            while n.ref.ref is not None:\n",
    "                n = n.ref\n",
    "            n.ref = None\n",
    "\n",
    "    def delete_by_value(self,x):\n",
    "        if self.head is None:\n",
    "            print(\"can't delete LL is empty!\")\n",
    "            return\n",
    "        if x==self.head.data:\n",
    "            self.head = self.head.ref\n",
    "            return\n",
    "        n=self.head\n",
    "        while n.ref is not None:\n",
    "            if x==n.ref.data:\n",
    "                break\n",
    "            n = n.ref\n",
    "        if n.ref is None:\n",
    "            print(\"Node is not present!\")\n",
    "        else:\n",
    "            n.ref = n.ref.ref\n",
    "\n",
    "LL1= LinkedList()\n",
    "#adding element\n",
    "LL1.insert_empty(5)\n",
    "LL1.add_begin(10)\n",
    "LL1.add_end(15)\n",
    "LL1.add_after(30,10)\n",
    "LL1.add_before(35,15)\n",
    "\n",
    "LL1.print_LL()"
   ]
  },
  {
   "cell_type": "code",
   "execution_count": 25,
   "id": "7c48e8f0",
   "metadata": {},
   "outputs": [
    {
     "name": "stdout",
     "output_type": "stream",
     "text": [
      "30 ---> 35 ---> "
     ]
    }
   ],
   "source": [
    "LL1.delete_begin()\n",
    "LL1.delete_end()\n",
    "LL1.delete_by_value(5)\n",
    "LL1.print_LL()"
   ]
  },
  {
   "cell_type": "code",
   "execution_count": 26,
   "id": "64a329de",
   "metadata": {},
   "outputs": [
    {
     "name": "stdout",
     "output_type": "stream",
     "text": [
      "5 --> 10 --> 15 --> 20 --> 25 --> \n",
      "25 --> 20 --> 15 --> 10 --> 5 --> "
     ]
    }
   ],
   "source": [
    "#Doubly Linked list \n",
    "# Create new node\n",
    "class Node:\n",
    "    def __init__(self, data):\n",
    "        self.data=data\n",
    "        self.nref= None\n",
    "        self.pref= None\n",
    "\n",
    "# Create connections between nodes\n",
    "class doublyLL:\n",
    "    def __init__(self):\n",
    "        self.head = None\n",
    "# traversal of Doubly LL\n",
    "# Forward Traversing:\n",
    "    def print_LL(self):\n",
    "        if self.head is None:\n",
    "            print(\"Linked List is empty!\")\n",
    "        else:\n",
    "            n = self.head\n",
    "            while n is not None:\n",
    "                print(n.data, \"-->\", end=\" \")\n",
    "                n = n.nref\n",
    "\n",
    "# Backward Traversing:\n",
    "    def print_LL_reverse(self):\n",
    "        print()\n",
    "        if self.head is None:\n",
    "            print(\"Linked List is empty!\")\n",
    "        else:\n",
    "            n = self.head\n",
    "            while n.nref is not None:\n",
    "                n = n.nref\n",
    "            while n is not None:\n",
    "                print(n.data, \"-->\", end=\" \")\n",
    "                n = n.pref\n",
    "\n",
    "#1.Insertion/Adding Elements \n",
    "\n",
    "    def insert_empty(self,data):\n",
    "        if self.head is None:\n",
    "            new_node = Node(data)\n",
    "            self.head = new_node\n",
    "        else:\n",
    "            print(\"Linked List is not empty!\")\n",
    "\n",
    "    def add_begin(self,data):\n",
    "        new_node = Node(data)\n",
    "        if self.head is None:\n",
    "            self.head = new_node\n",
    "        else:\n",
    "            new_node.nref = self.head\n",
    "            self.head.pref = new_node\n",
    "            self.head = new_node\n",
    "\n",
    "    def add_end(self,data):\n",
    "        new_node = Node(data)\n",
    "        if self.head is None:\n",
    "            self.head = new_node\n",
    "        else:\n",
    "            n = self.head\n",
    "            while n.nref is not None:\n",
    "                n = n.nref\n",
    "            n.nref = new_node\n",
    "            new_node.pref = n\n",
    "\n",
    "    def add_after(self,data,x):\n",
    "        n = self.head\n",
    "        while n is not None:\n",
    "            if x == n.data:\n",
    "                break\n",
    "            n = n.nref\n",
    "        if n is None:\n",
    "            print(\"Given Node is not present in Linked List!\")\n",
    "        elif n.nref is None:\n",
    "            new_node = Node(data)\n",
    "            n.nref = new_node\n",
    "            new_node.pref = n\n",
    "        else:\n",
    "            new_node = Node(data)\n",
    "            n.nref.pref = new_node\n",
    "            new_node.nref = n.nref\n",
    "            n.nref = new_node\n",
    "            new_node.pref = n\n",
    "\n",
    "    def add_before(self,data,x):\n",
    "        if self.head is None:\n",
    "            print(\"Linked List is Empty!\")\n",
    "            return\n",
    "        if self.head.data == x:\n",
    "            new_node = Node(data)\n",
    "            self.head.pref = new_node\n",
    "            new_node.nref = self.head\n",
    "            self.head = new_node            \n",
    "            return\n",
    "        n = self.head\n",
    "        while n.nref is not None:\n",
    "            if x == n.nref.data:\n",
    "                break\n",
    "            n = n.nref\n",
    "        if n.nref is None:\n",
    "            print(\"Given Node is not present in Linked List!\")\n",
    "        else:\n",
    "            new_node = Node(data)\n",
    "            new_node.pref = n\n",
    "            new_node.nref = n.nref\n",
    "            n.nref.pref = new_node            \n",
    "            n.nref = new_node\n",
    "\n",
    "#2) Deletion / Removing an Element\n",
    "    def delete_begin(self):\n",
    "        if self.head is None:\n",
    "            print(\"DLL is empty can't delte !\")\n",
    "            return\n",
    "        if self.head.nref is None:\n",
    "            self.head = None\n",
    "            print(\"DLL is empty after deleting the node!\")\n",
    "        else:\n",
    "            self.head = self.head.nref\n",
    "            self.head.pref = None\n",
    "            \n",
    "    def delete_end(self):\n",
    "        if self.head is None:\n",
    "            print(\"DLL is empty can't delte !\")\n",
    "            return\n",
    "        if self.head.nref is None:\n",
    "            self.head = None\n",
    "            print(\"DLL is empty after deleting the node!\")\n",
    "        else:\n",
    "            n = self.head\n",
    "            while n.nref is not None:\n",
    "                n = n.nref\n",
    "            n.pref.nref = None\n",
    "\n",
    "    def delete_by_value(self,x):\n",
    "        if self.head is None:\n",
    "            print(\"DLL is empty can't delte !\")\n",
    "            return\n",
    "        if self.head.nref is None:\n",
    "            if x==self.head.data:\n",
    "                self.head = None\n",
    "            else:\n",
    "                print(\"x is not present in DLL\")\n",
    "            return\n",
    "        if self.head.data == x:\n",
    "            self.head = self.head.nref\n",
    "            self.head.pref = None\n",
    "            return\n",
    "        n = self.head\n",
    "        while n.nref is not None:\n",
    "            if x==n.data:\n",
    "                break\n",
    "            n = n.nref\n",
    "        if n.nref is not None:\n",
    "            n.nref.pref = n.pref\n",
    "            n.pref.nref = n.nref\n",
    "        else:\n",
    "            if n.data==x:\n",
    "                n.pref.nref = None\n",
    "            else:\n",
    "                print(\"x is not present in dll!\")\n",
    "\n",
    "dl1 = doublyLL()\n",
    "dl1.insert_empty(10)\n",
    "dl1.add_begin(5)\n",
    "dl1.add_end(20)\n",
    "dl1.add_before(15,20)\n",
    "dl1.add_after(25,20)\n",
    "dl1.print_LL()\n",
    "dl1.print_LL_reverse()"
   ]
  },
  {
   "cell_type": "code",
   "execution_count": 27,
   "id": "bb995126",
   "metadata": {},
   "outputs": [
    {
     "name": "stdout",
     "output_type": "stream",
     "text": [
      "10 --> 20 --> \n",
      "20 --> 10 --> "
     ]
    }
   ],
   "source": [
    "dl1.delete_begin()\n",
    "dl1.delete_end()\n",
    "dl1.delete_by_value(15)\n",
    "dl1.print_LL()\n",
    "dl1.print_LL_reverse()"
   ]
  },
  {
   "cell_type": "code",
   "execution_count": null,
   "id": "48f70143",
   "metadata": {},
   "outputs": [],
   "source": []
  },
  {
   "cell_type": "markdown",
   "id": "d95dab2a",
   "metadata": {},
   "source": [
    "# Tree Data Structure "
   ]
  },
  {
   "cell_type": "code",
   "execution_count": 28,
   "id": "d941ccd0",
   "metadata": {},
   "outputs": [],
   "source": [
    "#Python Programs:\n",
    "#Tree Data Structure \n",
    "# Create new node\n",
    "class BST:\n",
    "    def __init__(self,key):\n",
    "        self.key = key\n",
    "        self.lchild= None\n",
    "        self.rchild= None\n",
    "\n",
    "# 1.Insertion/Adding Elements \n",
    "\n",
    "    def insert(self,data):\n",
    "        if self.key is None:\n",
    "            self.key = data\n",
    "            return\n",
    "        if self.key == data:\n",
    "            return\n",
    "        if self.key > data:\n",
    "            if self.lchild:\n",
    "                self.lchild.insert(data)\n",
    "            else:\n",
    "                self.lchild = BST(data)\n",
    "        else:\n",
    "            if self.rchild:\n",
    "                self.rchild.insert(data)\n",
    "            else:\n",
    "                self.rchild = BST(data)\n",
    "\n",
    "#2) Search Element\n",
    "    def search(self,data):\n",
    "        if self.key == data:\n",
    "            print(\"Node is found!\")\n",
    "            return\n",
    "        if self.key > data:\n",
    "            if self.lchild:\n",
    "                self.lchild.search(data)\n",
    "            else:\n",
    "                print(\"Node is not present in tree!\")\n",
    "        else:\n",
    "            if self.rchild:\n",
    "                self.rchild.search(data)\n",
    "            else:\n",
    "                print(\"Node is not present in tree!\")\n",
    "\n",
    "# 3) Traversal\n",
    "    def preorder(self):\n",
    "        print(self.key, end=\" \")\n",
    "        if self.lchild:\n",
    "            self.lchild.preorder()\n",
    "        if self.rchild:\n",
    "            self.rchild.preorder()\n",
    "\n",
    "    def inorder(self):\n",
    "        if self.lchild:\n",
    "            self.lchild.preorder()\n",
    "        print(self.key, end=\" \")\n",
    "        if self.rchild:\n",
    "            self.rchild.preorder()\n",
    "\n",
    "    def postorder(self):\n",
    "        if self.lchild:\n",
    "            self.lchild.preorder()\n",
    "        if self.rchild:\n",
    "            self.rchild.preorder()\n",
    "        print(self.key, end=\" \")\n",
    "                \n",
    "#4) Deletion of an Element\n",
    "    def delete(self,data):\n",
    "        if self.key is None:\n",
    "            print(\"Tree is empty!\")\n",
    "            return\n",
    "        if data < self.key:\n",
    "            if self.lchild:\n",
    "                self.lchild = self.lchild.delete(data)\n",
    "            else:\n",
    "                print(\"Given Node is Not present in the tree\")\n",
    "        elif data > self.key:\n",
    "            if self.rchild:\n",
    "                self.rchild = self.rchild.delete(data)\n",
    "            else:\n",
    "                print(\"Given Node is Not present in the tree\")\n",
    "        else:\n",
    "            if self.lchild is None:\n",
    "                temp = self.rchild\n",
    "                self = None\n",
    "                return temp\n",
    "            if self.rchild is None:\n",
    "                temp = self.lchild\n",
    "                self = None\n",
    "                return temp\n",
    "            node = self.rchild\n",
    "            while node.lchild:\n",
    "                node = node.lchild\n",
    "            self.key = node.key\n",
    "            self.rchild = self.rchild.delete(node.key)\n",
    "        return self\n",
    "\n",
    "#Minimum & Maximum Node\n",
    "    def min_node(self):\n",
    "        current = self\n",
    "        while current.lchild:\n",
    "            current = current.lchild\n",
    "        print(\"Node with minimum key is :\",current.key)\n",
    "\n",
    "    def max_node(self):\n",
    "        current = self\n",
    "        while current.rchild:\n",
    "            current = current.rchild\n",
    "        print(\"Node with maximum key is :\",current.key)\n",
    "\n",
    "\n",
    "root = BST(10)\n",
    "#Insertion\n",
    "list1 = [20,4,30,4,1,5,6]\n",
    "for i in list1:\n",
    "    root.insert(i)\n",
    "\n",
    "#root.search(60)\n",
    "\n",
    "#Traversal\n",
    "#root.preorder()\n",
    "#root.inorder()\n",
    "#root.postorder()\n",
    "\n",
    "#Deletion\n",
    "#root.preorder()\n",
    "#root.delete(6)\n",
    "#print(\"after deleting:\")\n",
    "#root.preorder()\n",
    "\n",
    "#root.min_node()\n",
    "#root.max_node()"
   ]
  },
  {
   "cell_type": "markdown",
   "id": "af063bbe",
   "metadata": {},
   "source": [
    "# Graph Data Structure"
   ]
  },
  {
   "cell_type": "code",
   "execution_count": 30,
   "id": "9f9cea0e",
   "metadata": {},
   "outputs": [
    {
     "name": "stdout",
     "output_type": "stream",
     "text": [
      "[[0, 0, 0], [0, 0, 5], [0, 5, 0]]\n",
      "0   0   0   \n",
      "0   0   5   \n",
      "0   5   0   \n"
     ]
    }
   ],
   "source": [
    "# Adjacency Matrix\n",
    "# 1) Adding Node\n",
    "def add_node(v):\n",
    "    global node_count\n",
    "    if v in nodes:\n",
    "        print(v,\"is already present in the graph\")\n",
    "    else:\n",
    "        node_count = node_count + 1\n",
    "        nodes.append(v)\n",
    "        for n in graph:\n",
    "            n.append(0)\n",
    "        temp = []\n",
    "        for i in range(node_count):\n",
    "            temp.append(0)\n",
    "        graph.append(temp)\n",
    "\n",
    "def print_graph():\n",
    "    for i in range(node_count):\n",
    "        for j in range(node_count):\n",
    "            print(format(graph[i][j],\"<3\"),end=\" \")\n",
    "        print()\n",
    "\n",
    "# Adding Edge\n",
    "# undirected Graph\n",
    "def add_edge_undir(v1,v2):\n",
    "    if v1 not in nodes:\n",
    "        print(v1,\"is not present in the graph\")\n",
    "    elif v1 not in nodes:\n",
    "        print(v1,\"is not present in the graph\")\n",
    "    else:\n",
    "        index1 = nodes.index(v1)\n",
    "        index2 = nodes.index(v2)\n",
    "        graph[index1][index2] = 1\n",
    "        graph[index2][index1] = 1\n",
    "\n",
    "# directed Graph\n",
    "def add_edge_dir(v1,v2):\n",
    "    if v1 not in nodes:\n",
    "        print(v1,\"is not present in the graph\")\n",
    "    elif v1 not in nodes:\n",
    "        print(v1,\"is not present in the graph\")\n",
    "    else:\n",
    "        index1 = nodes.index(v1)\n",
    "        index2 = nodes.index(v2)\n",
    "        graph[index1][index2] = 1\n",
    "        #graph[index2][index1] = 1\n",
    "\n",
    "# weighted Graph\n",
    "def add_edge_wted(v1,v2,cost):\n",
    "    if v1 not in nodes:\n",
    "        print(v1,\"is not present in the graph\")\n",
    "    elif v1 not in nodes:\n",
    "        print(v1,\"is not present in the graph\")\n",
    "    else:\n",
    "        index1 = nodes.index(v1)\n",
    "        index2 = nodes.index(v2)\n",
    "        graph[index1][index2] = cost\n",
    "        graph[index2][index1] = cost\n",
    "\n",
    "# Deleting / Removing Node\n",
    "def delete_node(v):\n",
    "    global node_count\n",
    "    if v not in nodes:\n",
    "        print(v,\"is not present in the graph\")\n",
    "    else:\n",
    "        index1 = nodes.index(v)\n",
    "        node_count = node_count - 1\n",
    "        nodes.remove(v)\n",
    "        graph.pop(index1)\n",
    "        for i in graph:\n",
    "            i.pop(index1)\n",
    "\n",
    "# Deleting / Removing Edge\n",
    "def delete_edge_undir(v1,v2):\n",
    "    if v1 not in nodes:\n",
    "        print(v1,\"is not present in the graph\")\n",
    "    elif v1 not in nodes:\n",
    "        print(v1,\"is not present in the graph\")\n",
    "    else:\n",
    "        index1 = nodes.index(v1)\n",
    "        index2 = nodes.index(v2)\n",
    "        graph[index1][index2] = 0\n",
    "        graph[index2][index1] = 0\n",
    "\n",
    "nodes = []\n",
    "graph = []\n",
    "node_count = 0\n",
    "#adding node\n",
    "add_node(\"A\")\n",
    "add_node(\"B\")\n",
    "add_node(\"C\")\n",
    "\n",
    "#adding edge\n",
    "#add_edge_undir(\"A\",\"B\")\n",
    "#add_edge_undir(\"A\",\"C\")\n",
    "#add_edge_dir(\"A\",\"B\")\n",
    "add_edge_wted(\"A\",\"B\",10)\n",
    "add_edge_wted(\"B\",\"C\",5)\n",
    "\n",
    "#Deleting Node\n",
    "#delete_node(\"A\")\n",
    "\n",
    "#Deleting Edge\n",
    "delete_edge_undir(\"A\",\"B\")\n",
    "print(graph)\n",
    "print_graph()"
   ]
  },
  {
   "cell_type": "code",
   "execution_count": 31,
   "id": "3d2039c0",
   "metadata": {},
   "outputs": [
    {
     "name": "stdout",
     "output_type": "stream",
     "text": [
      "{'A': ['C'], 'B': [], 'C': ['A']}\n"
     ]
    }
   ],
   "source": [
    "# Adjacency List\n",
    "# Adding Node\n",
    "def add_node(v):\n",
    "    if v in graph:\n",
    "        print(v,\"is already present in graph\")\n",
    "    else:\n",
    "        graph[v] = []\n",
    "\n",
    "# Adding Edge\n",
    "# undirected graph\n",
    "def add_edge_undir_l(v1,v2):\n",
    "    if v1 not in graph:\n",
    "        print(v1,\"is not present in the graph\")\n",
    "    elif v2 not in graph:\n",
    "        print(v2,\"is not present in the graph\")\n",
    "    else:\n",
    "        graph[v1].append(v2)\n",
    "        graph[v2].append(v1)\n",
    "\n",
    "# directed graph\n",
    "def add_edge_dir_l(v1,v2):\n",
    "    if v1 not in graph:\n",
    "        print(v1,\"is not present in the graph\")\n",
    "    elif v2 not in graph:\n",
    "        print(v2,\"is not present in the graph\")\n",
    "    else:\n",
    "        graph[v1].append(v2)\n",
    "        #graph[v2].append(v1)\n",
    "\n",
    "# weighted graph\n",
    "def add_edge_wted_l(v1,v2,cost):\n",
    "    if v1 not in graph:\n",
    "        print(v1,\"is not present in the graph\")\n",
    "    elif v2 not in graph:\n",
    "        print(v2,\"is not present in the graph\")\n",
    "    else:\n",
    "        list1 = [v2,cost]\n",
    "        list2 = [v1,cost]\n",
    "        graph[v1].append(list1)\n",
    "        graph[v2].append(list2)\n",
    "\n",
    "# Deleting / Removing node\n",
    "# undirected & directed graph \n",
    "def delete_node_l(v):\n",
    "    if v not in graph:\n",
    "        print(v,\"is not present in the graph\")\n",
    "    else:\n",
    "        graph.pop(v)\n",
    "        for i in graph:\n",
    "            list1 = graph[i]\n",
    "            if v in list1:\n",
    "                list1.remove(v)\n",
    "        \n",
    "# weighted graph\n",
    "def delete_node_wted_l(v):\n",
    "    if v not in graph:\n",
    "        print(v,\"is not present in the graph\")\n",
    "    else:\n",
    "        graph.pop(v)\n",
    "        for i in graph:\n",
    "            list1 = graph[i]\n",
    "            for j in list1:\n",
    "                if v == j[0]:\n",
    "                    list1.remove(j)\n",
    "                    break\n",
    "\n",
    "# Deleting / Removing Edge\n",
    "# undirected graph\n",
    "def delete_edge_undir_l(v1,v2):\n",
    "    if v1 not in graph:\n",
    "        print(v1,\"is not present in the graph\")\n",
    "    elif v2 not in graph:\n",
    "        print(v2,\"is not present in the graph\")\n",
    "    else:\n",
    "        if v2 in graph[v1]:\n",
    "            graph[v1].remove(v2)\n",
    "            graph[v2].remove(v1)\n",
    "\n",
    "# directed graph\n",
    "def delete_edge_dir_l(v1,v2):\n",
    "    if v1 not in graph:\n",
    "        print(v1,\"is not present in the graph\")\n",
    "    elif v2 not in graph:\n",
    "        print(v2,\"is not present in the graph\")\n",
    "    else:\n",
    "        if v2 in graph[v1]:\n",
    "            graph[v1].remove(v2)\n",
    "            #graph[v2].remove(v1)\n",
    "\n",
    "# weighted graph\n",
    "def delete_edge_wted_l(v1,v2,cost):\n",
    "    if v1 not in graph:\n",
    "        print(v1,\"is not present in the graph\")\n",
    "    elif v2 not in graph:\n",
    "        print(v2,\"is not present in the graph\")\n",
    "    else:\n",
    "        temp = [v1,cost]\n",
    "        temp1 = [v2,cost]\n",
    "        if temp1 in graph[v1]:\n",
    "            graph[v1].remove(temp1)\n",
    "            graph[v2].remove(temp)\n",
    "\n",
    "graph = {}\n",
    "#adding node\n",
    "add_node(\"A\")\n",
    "add_node(\"B\")\n",
    "add_node(\"C\")\n",
    "\n",
    "#adding edge\n",
    "add_edge_undir_l(\"A\",\"B\")\n",
    "add_edge_undir_l(\"A\",\"C\")\n",
    "#add_edge_dir_l(\"A\",\"B\")\n",
    "#add_edge_wted_l(\"A\",\"B\",10)\n",
    "#add_edge_wted_l(\"A\",\"C\",5)\n",
    "\n",
    "#deleting node\n",
    "#delete_node_l(\"A\")\n",
    "#delete_node_wted_l(\"A\")\n",
    "\n",
    "# delete edge\n",
    "delete_edge_undir_l(\"A\",\"B\")\n",
    "delete_edge_dir_l(\"A\",\"B\")\n",
    "delete_edge_wted_l(\"A\",\"B\",10)\n",
    "\n",
    "print(graph)"
   ]
  },
  {
   "cell_type": "code",
   "execution_count": 32,
   "id": "c50c797c",
   "metadata": {},
   "outputs": [
    {
     "name": "stdout",
     "output_type": "stream",
     "text": [
      "{'A': ['B', 'C', 'D'], 'B': ['A', 'D', 'E'], 'C': ['A', 'D'], 'D': ['A', 'B', 'C', 'E'], 'E': ['B', 'D']}\n",
      "A\n",
      "B\n",
      "D\n",
      "C\n",
      "E\n"
     ]
    }
   ],
   "source": [
    "# Graph traversal \n",
    "# Using Recursion function\n",
    "def DFS(node,visited,graph):\n",
    "    if node not in graph:\n",
    "        print(\"Node is not present in graph\")\n",
    "        return\n",
    "    if node not in visited:\n",
    "        print(node)\n",
    "        visited.add(node)\n",
    "        for i in graph[node]:\n",
    "            DFS(i,visited,graph)\n",
    "            \n",
    "visited = set()\n",
    "graph = {}\n",
    "add_node(\"A\")\n",
    "add_node(\"B\")\n",
    "add_node(\"C\")\n",
    "add_node(\"D\")\n",
    "add_node(\"E\")\n",
    "\n",
    "add_edge_undir_l(\"A\",\"B\")\n",
    "add_edge_undir_l(\"A\",\"C\")\n",
    "add_edge_undir_l(\"A\",\"D\")\n",
    "add_edge_undir_l(\"B\",\"D\")\n",
    "add_edge_undir_l(\"B\",\"E\")\n",
    "add_edge_undir_l(\"C\",\"D\")\n",
    "add_edge_undir_l(\"E\",\"D\")\n",
    "print(graph)\n",
    "DFS(\"A\",visited,graph)"
   ]
  },
  {
   "cell_type": "code",
   "execution_count": 33,
   "id": "a2a96b47",
   "metadata": {},
   "outputs": [
    {
     "name": "stdout",
     "output_type": "stream",
     "text": [
      "{'A': ['B', 'C', 'D'], 'B': ['A', 'D', 'E'], 'C': ['A', 'D'], 'D': ['A', 'B', 'C', 'E'], 'E': ['B', 'D']}\n",
      "A\n",
      "D\n",
      "E\n",
      "B\n",
      "C\n"
     ]
    }
   ],
   "source": [
    "# Graph traversal \n",
    "# Using Iterative Approach\n",
    "def DFS_iterative(node,graph):\n",
    "    visited = set()\n",
    "    if node not in graph:\n",
    "        print(\"Node not present in the graph\")\n",
    "        return\n",
    "    stack = []\n",
    "    stack.append(node)\n",
    "    while stack:\n",
    "        current = stack.pop()\n",
    "        if current not in visited:\n",
    "            print(current)\n",
    "            visited.add(current)\n",
    "            for i in graph[current]:\n",
    "                stack.append(i)\n",
    "\n",
    "graph = {}\n",
    "add_node(\"A\")\n",
    "add_node(\"B\")\n",
    "add_node(\"C\")\n",
    "add_node(\"D\")\n",
    "add_node(\"E\")\n",
    "\n",
    "add_edge_undir_l(\"A\",\"B\")\n",
    "add_edge_undir_l(\"A\",\"C\")\n",
    "add_edge_undir_l(\"A\",\"D\")\n",
    "add_edge_undir_l(\"B\",\"D\")\n",
    "add_edge_undir_l(\"B\",\"E\")\n",
    "add_edge_undir_l(\"C\",\"D\")\n",
    "add_edge_undir_l(\"E\",\"D\")\n",
    "print(graph)\n",
    "DFS_iterative(\"A\",graph)\n",
    "    \n"
   ]
  },
  {
   "cell_type": "code",
   "execution_count": null,
   "id": "5e4cb8a2",
   "metadata": {},
   "outputs": [],
   "source": []
  }
 ],
 "metadata": {
  "kernelspec": {
   "display_name": "Python 3",
   "language": "python",
   "name": "python3"
  },
  "language_info": {
   "codemirror_mode": {
    "name": "ipython",
    "version": 3
   },
   "file_extension": ".py",
   "mimetype": "text/x-python",
   "name": "python",
   "nbconvert_exporter": "python",
   "pygments_lexer": "ipython3",
   "version": "3.8.8"
  }
 },
 "nbformat": 4,
 "nbformat_minor": 5
}
